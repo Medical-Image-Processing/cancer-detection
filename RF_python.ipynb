{
 "cells": [
  {
   "cell_type": "code",
   "execution_count": 1,
   "metadata": {},
   "outputs": [
    {
     "data": {
      "text/html": [
       "<div>\n",
       "<style scoped>\n",
       "    .dataframe tbody tr th:only-of-type {\n",
       "        vertical-align: middle;\n",
       "    }\n",
       "\n",
       "    .dataframe tbody tr th {\n",
       "        vertical-align: top;\n",
       "    }\n",
       "\n",
       "    .dataframe thead th {\n",
       "        text-align: right;\n",
       "    }\n",
       "</style>\n",
       "<table border=\"1\" class=\"dataframe\">\n",
       "  <thead>\n",
       "    <tr style=\"text-align: right;\">\n",
       "      <th></th>\n",
       "      <th>label</th>\n",
       "      <th>ecc_mean</th>\n",
       "      <th>ecc_min</th>\n",
       "      <th>ecc_max</th>\n",
       "      <th>ecc_sd</th>\n",
       "      <th>ecc_skew</th>\n",
       "      <th>ecc_10pc</th>\n",
       "      <th>ecc_1q</th>\n",
       "      <th>ecc_median</th>\n",
       "      <th>ecc_3q</th>\n",
       "      <th>...</th>\n",
       "      <th>solidity_mean</th>\n",
       "      <th>solidity_min</th>\n",
       "      <th>solidity_max</th>\n",
       "      <th>solidity_sd</th>\n",
       "      <th>solidity_skew</th>\n",
       "      <th>solidity_10pc</th>\n",
       "      <th>solidity_1q</th>\n",
       "      <th>solidity_median</th>\n",
       "      <th>solidity_3q</th>\n",
       "      <th>solidity_90pc</th>\n",
       "    </tr>\n",
       "  </thead>\n",
       "  <tbody>\n",
       "    <tr>\n",
       "      <th>0</th>\n",
       "      <td>0</td>\n",
       "      <td>0.801306</td>\n",
       "      <td>0.593695</td>\n",
       "      <td>0.966819</td>\n",
       "      <td>0.125172</td>\n",
       "      <td>-0.137639</td>\n",
       "      <td>0.658744</td>\n",
       "      <td>0.686168</td>\n",
       "      <td>0.819708</td>\n",
       "      <td>0.912999</td>\n",
       "      <td>...</td>\n",
       "      <td>0.795114</td>\n",
       "      <td>0.373303</td>\n",
       "      <td>0.958955</td>\n",
       "      <td>0.170381</td>\n",
       "      <td>-1.147909</td>\n",
       "      <td>0.662281</td>\n",
       "      <td>0.717273</td>\n",
       "      <td>0.816754</td>\n",
       "      <td>0.937572</td>\n",
       "      <td>0.948276</td>\n",
       "    </tr>\n",
       "    <tr>\n",
       "      <th>1</th>\n",
       "      <td>1</td>\n",
       "      <td>0.837111</td>\n",
       "      <td>0.587075</td>\n",
       "      <td>0.968586</td>\n",
       "      <td>0.111798</td>\n",
       "      <td>-0.824572</td>\n",
       "      <td>0.706076</td>\n",
       "      <td>0.794921</td>\n",
       "      <td>0.864257</td>\n",
       "      <td>0.904624</td>\n",
       "      <td>...</td>\n",
       "      <td>0.796183</td>\n",
       "      <td>0.469914</td>\n",
       "      <td>0.962025</td>\n",
       "      <td>0.148221</td>\n",
       "      <td>-0.692320</td>\n",
       "      <td>0.631471</td>\n",
       "      <td>0.721875</td>\n",
       "      <td>0.817094</td>\n",
       "      <td>0.927075</td>\n",
       "      <td>0.961551</td>\n",
       "    </tr>\n",
       "    <tr>\n",
       "      <th>2</th>\n",
       "      <td>0</td>\n",
       "      <td>0.783310</td>\n",
       "      <td>0.382105</td>\n",
       "      <td>0.988181</td>\n",
       "      <td>0.138827</td>\n",
       "      <td>-1.069424</td>\n",
       "      <td>0.682008</td>\n",
       "      <td>0.744029</td>\n",
       "      <td>0.768124</td>\n",
       "      <td>0.846584</td>\n",
       "      <td>...</td>\n",
       "      <td>0.828778</td>\n",
       "      <td>0.567123</td>\n",
       "      <td>0.963816</td>\n",
       "      <td>0.114403</td>\n",
       "      <td>-1.003540</td>\n",
       "      <td>0.665998</td>\n",
       "      <td>0.783846</td>\n",
       "      <td>0.848188</td>\n",
       "      <td>0.909219</td>\n",
       "      <td>0.946858</td>\n",
       "    </tr>\n",
       "    <tr>\n",
       "      <th>3</th>\n",
       "      <td>0</td>\n",
       "      <td>0.824015</td>\n",
       "      <td>0.617894</td>\n",
       "      <td>0.981266</td>\n",
       "      <td>0.111468</td>\n",
       "      <td>-0.466777</td>\n",
       "      <td>0.668586</td>\n",
       "      <td>0.729426</td>\n",
       "      <td>0.865206</td>\n",
       "      <td>0.900536</td>\n",
       "      <td>...</td>\n",
       "      <td>0.809020</td>\n",
       "      <td>0.644663</td>\n",
       "      <td>0.959538</td>\n",
       "      <td>0.092679</td>\n",
       "      <td>-0.141705</td>\n",
       "      <td>0.702436</td>\n",
       "      <td>0.719346</td>\n",
       "      <td>0.834454</td>\n",
       "      <td>0.866532</td>\n",
       "      <td>0.921804</td>\n",
       "    </tr>\n",
       "    <tr>\n",
       "      <th>4</th>\n",
       "      <td>0</td>\n",
       "      <td>0.660254</td>\n",
       "      <td>0.330568</td>\n",
       "      <td>0.954411</td>\n",
       "      <td>0.159412</td>\n",
       "      <td>-0.067673</td>\n",
       "      <td>0.456213</td>\n",
       "      <td>0.569537</td>\n",
       "      <td>0.635749</td>\n",
       "      <td>0.771979</td>\n",
       "      <td>...</td>\n",
       "      <td>0.872813</td>\n",
       "      <td>0.574759</td>\n",
       "      <td>0.980170</td>\n",
       "      <td>0.098507</td>\n",
       "      <td>-1.361063</td>\n",
       "      <td>0.734985</td>\n",
       "      <td>0.843023</td>\n",
       "      <td>0.907530</td>\n",
       "      <td>0.943089</td>\n",
       "      <td>0.965369</td>\n",
       "    </tr>\n",
       "  </tbody>\n",
       "</table>\n",
       "<p>5 rows × 31 columns</p>\n",
       "</div>"
      ],
      "text/plain": [
       "   label  ecc_mean   ecc_min   ecc_max    ecc_sd  ecc_skew  ecc_10pc  \\\n",
       "0      0  0.801306  0.593695  0.966819  0.125172 -0.137639  0.658744   \n",
       "1      1  0.837111  0.587075  0.968586  0.111798 -0.824572  0.706076   \n",
       "2      0  0.783310  0.382105  0.988181  0.138827 -1.069424  0.682008   \n",
       "3      0  0.824015  0.617894  0.981266  0.111468 -0.466777  0.668586   \n",
       "4      0  0.660254  0.330568  0.954411  0.159412 -0.067673  0.456213   \n",
       "\n",
       "     ecc_1q  ecc_median    ecc_3q  ...  solidity_mean  solidity_min  \\\n",
       "0  0.686168    0.819708  0.912999  ...       0.795114      0.373303   \n",
       "1  0.794921    0.864257  0.904624  ...       0.796183      0.469914   \n",
       "2  0.744029    0.768124  0.846584  ...       0.828778      0.567123   \n",
       "3  0.729426    0.865206  0.900536  ...       0.809020      0.644663   \n",
       "4  0.569537    0.635749  0.771979  ...       0.872813      0.574759   \n",
       "\n",
       "   solidity_max  solidity_sd  solidity_skew  solidity_10pc  solidity_1q  \\\n",
       "0      0.958955     0.170381      -1.147909       0.662281     0.717273   \n",
       "1      0.962025     0.148221      -0.692320       0.631471     0.721875   \n",
       "2      0.963816     0.114403      -1.003540       0.665998     0.783846   \n",
       "3      0.959538     0.092679      -0.141705       0.702436     0.719346   \n",
       "4      0.980170     0.098507      -1.361063       0.734985     0.843023   \n",
       "\n",
       "   solidity_median  solidity_3q  solidity_90pc  \n",
       "0         0.816754     0.937572       0.948276  \n",
       "1         0.817094     0.927075       0.961551  \n",
       "2         0.848188     0.909219       0.946858  \n",
       "3         0.834454     0.866532       0.921804  \n",
       "4         0.907530     0.943089       0.965369  \n",
       "\n",
       "[5 rows x 31 columns]"
      ]
     },
     "execution_count": 1,
     "metadata": {},
     "output_type": "execute_result"
    }
   ],
   "source": [
    "from pandas import read_csv\n",
    "\n",
    "data = read_csv('stats.csv')\n",
    "data.drop(\"index\", axis=1, inplace=True)\n",
    "data.drop(\"id\", axis=1 , inplace=True)\n",
    "data = data.dropna()\n",
    "data.head()"
   ]
  },
  {
   "cell_type": "code",
   "execution_count": 32,
   "metadata": {},
   "outputs": [
    {
     "name": "stdout",
     "output_type": "stream",
     "text": [
      "(197991, 30)\n",
      "(22000, 30)\n",
      "(197991,)\n",
      "(22000,)\n"
     ]
    }
   ],
   "source": [
    "# Size of test group\n",
    "###################################\n",
    "size = 0.1\n",
    "###################################\n",
    "\n",
    "from sklearn.model_selection import train_test_split\n",
    "\n",
    "X = data.loc[:, data.columns != \"label\"]\n",
    "y = data[\"label\"]\n",
    "\n",
    "X_train, X_test, y_train, y_test = train_test_split(X, y, test_size=size, random_state=42)\n",
    "\n",
    "for x in (X_train, X_test, y_train, y_test):\n",
    "    print(x.shape)"
   ]
  },
  {
   "cell_type": "code",
   "execution_count": 33,
   "metadata": {},
   "outputs": [
    {
     "name": "stdout",
     "output_type": "stream",
     "text": [
      "Parameters currently in use:\n",
      "\n",
      "{'bootstrap': True,\n",
      " 'class_weight': None,\n",
      " 'criterion': 'gini',\n",
      " 'max_depth': None,\n",
      " 'max_features': 'auto',\n",
      " 'max_leaf_nodes': None,\n",
      " 'min_impurity_decrease': 0.0,\n",
      " 'min_impurity_split': None,\n",
      " 'min_samples_leaf': 1,\n",
      " 'min_samples_split': 2,\n",
      " 'min_weight_fraction_leaf': 0.0,\n",
      " 'n_estimators': 'warn',\n",
      " 'n_jobs': None,\n",
      " 'oob_score': False,\n",
      " 'random_state': 42,\n",
      " 'verbose': 0,\n",
      " 'warm_start': False}\n"
     ]
    }
   ],
   "source": [
    "from sklearn.ensemble import RandomForestClassifier\n",
    "import numpy as np\n",
    "\n",
    "rf = RandomForestClassifier(random_state = 42)\n",
    "\n",
    "from pprint import pprint\n",
    "\n",
    "# Look at parameters used by our current forest\n",
    "print('Parameters currently in use:\\n')\n",
    "pprint(rf.get_params())"
   ]
  },
  {
   "cell_type": "code",
   "execution_count": 34,
   "metadata": {},
   "outputs": [
    {
     "name": "stdout",
     "output_type": "stream",
     "text": [
      "{'criterion': ['gini', 'entropy'],\n",
      " 'max_depth': [4, 8, 12, 20, 40],\n",
      " 'max_features': ['auto', 'sqrt', 'log2'],\n",
      " 'min_samples_split': [2, 3, 10, 50, 100],\n",
      " 'n_estimators': [50, 200, 666, 2000, 2500]}\n"
     ]
    }
   ],
   "source": [
    "from sklearn.model_selection import RandomizedSearchCV\n",
    "\n",
    "# Number of trees in random forest\n",
    "#n_estimators = [int(x) for x in np.linspace(start = 200, stop = 2000, num = 10)]\n",
    "n_estimators = [int(x) for x in np.linspace(start = 2, stop = 20, num = 4)]\n",
    "# Number of features to consider at every split\n",
    "max_features = ['auto', 'sqrt']\n",
    "# Maximum number of levels in tree\n",
    "#max_depth = [int(x) for x in np.linspace(10, 110, num = 11)]\n",
    "max_depth = [5,15,50]\n",
    "max_depth.append(None)\n",
    "# Minimum number of samples required to split a node\n",
    "min_samples_split = [2, 5, 10]\n",
    "# Minimum number of samples required at each leaf node\n",
    "min_samples_leaf = [1, 2, 4]\n",
    "# Method of selecting samples for training each tree\n",
    "bootstrap = [True, False]\n",
    "\n",
    "# Create the random grid\n",
    "random_grid = { \n",
    "    'n_estimators': [50,200,666,2000,2500],\n",
    "    'max_features': ['auto', 'sqrt', 'log2'],\n",
    "    \"min_samples_split\": [2, 3, 10, 50,100],\n",
    "    'max_depth' : [4,8,12,20,40],\n",
    "    #'bootstrap': [True,False],\n",
    "    'criterion' :['gini', 'entropy']\n",
    "}\n",
    "\n",
    "pprint(random_grid)"
   ]
  },
  {
   "cell_type": "code",
   "execution_count": 35,
   "metadata": {},
   "outputs": [
    {
     "name": "stdout",
     "output_type": "stream",
     "text": [
      "Fitting 3 folds for each of 100 candidates, totalling 300 fits\n"
     ]
    },
    {
     "name": "stderr",
     "output_type": "stream",
     "text": [
      "[Parallel(n_jobs=-1)]: Using backend LokyBackend with 4 concurrent workers.\n",
      "/home/andrea/.local/lib/python3.6/site-packages/joblib/externals/loky/process_executor.py:706: UserWarning: A worker stopped while some jobs were given to the executor. This can be caused by a too short worker timeout or by a memory leak.\n",
      "  \"timeout or by a memory leak.\", UserWarning\n",
      "[Parallel(n_jobs=-1)]: Done  33 tasks      | elapsed: 75.1min\n",
      "[Parallel(n_jobs=-1)]: Done 154 tasks      | elapsed: 464.3min\n",
      "[Parallel(n_jobs=-1)]: Done 300 out of 300 | elapsed: 1009.9min finished\n"
     ]
    },
    {
     "data": {
      "text/plain": [
       "RandomizedSearchCV(cv=3, error_score='raise-deprecating',\n",
       "                   estimator=RandomForestClassifier(bootstrap=True,\n",
       "                                                    class_weight=None,\n",
       "                                                    criterion='gini',\n",
       "                                                    max_depth=None,\n",
       "                                                    max_features='auto',\n",
       "                                                    max_leaf_nodes=None,\n",
       "                                                    min_impurity_decrease=0.0,\n",
       "                                                    min_impurity_split=None,\n",
       "                                                    min_samples_leaf=1,\n",
       "                                                    min_samples_split=2,\n",
       "                                                    min_weight_fraction_leaf=0.0,\n",
       "                                                    n_estimators='warn',\n",
       "                                                    n_jobs=None,\n",
       "                                                    oob_sc...\n",
       "                                                    verbose=0,\n",
       "                                                    warm_start=False),\n",
       "                   iid='warn', n_iter=100, n_jobs=-1,\n",
       "                   param_distributions={'criterion': ['gini', 'entropy'],\n",
       "                                        'max_depth': [4, 8, 12, 20, 40],\n",
       "                                        'max_features': ['auto', 'sqrt',\n",
       "                                                         'log2'],\n",
       "                                        'min_samples_split': [2, 3, 10, 50,\n",
       "                                                              100],\n",
       "                                        'n_estimators': [50, 200, 666, 2000,\n",
       "                                                         2500]},\n",
       "                   pre_dispatch='2*n_jobs', random_state=42, refit=True,\n",
       "                   return_train_score=False, scoring=None, verbose=2)"
      ]
     },
     "execution_count": 35,
     "metadata": {},
     "output_type": "execute_result"
    }
   ],
   "source": [
    "# Use the random grid to search for best hyperparameters\n",
    "# First create the base model to tune\n",
    "rf = RandomForestClassifier()\n",
    "# Random search of parameters, using 3 fold cross validation, \n",
    "# search across 100 different combinations, and use all available cores\n",
    "rf_random = RandomizedSearchCV(estimator = rf, param_distributions = random_grid, n_iter = 100, cv = 3, verbose=2, random_state=42, n_jobs = -1)\n",
    "\n",
    "# Fit the random search model\n",
    "rf_random.fit(X_train, y_train)"
   ]
  },
  {
   "cell_type": "code",
   "execution_count": 40,
   "metadata": {},
   "outputs": [
    {
     "data": {
      "text/plain": [
       "{'n_estimators': 2000,\n",
       " 'min_samples_split': 10,\n",
       " 'max_features': 'auto',\n",
       " 'max_depth': 40,\n",
       " 'criterion': 'entropy'}"
      ]
     },
     "execution_count": 40,
     "metadata": {},
     "output_type": "execute_result"
    }
   ],
   "source": [
    "rf_random.best_params_ "
   ]
  },
  {
   "cell_type": "code",
   "execution_count": 37,
   "metadata": {},
   "outputs": [
    {
     "data": {
      "image/png": "[encoded data removed]",
      "text/plain": [
       "<Figure size 720x720 with 1 Axes>"
      ]
     },
     "metadata": {
      "needs_background": "light"
     },
     "output_type": "display_data"
    }
   ],
   "source": [
    "from sklearn.metrics import classification_report\n",
    "from sklearn.metrics import roc_curve, auc\n",
    "import matplotlib.pyplot as plt\n",
    "\n",
    "# overall accuracy\n",
    "acc = rf_random.score(X_test,y_test)\n",
    "\n",
    "# get roc/auc info\n",
    "Y_score = rf_random.predict_proba(X_test)[:,1]\n",
    "fpr = dict()\n",
    "tpr = dict()\n",
    "fpr, tpr, _ = roc_curve(y_test, Y_score)\n",
    "\n",
    "roc_auc = dict()\n",
    "roc_auc = auc(fpr, tpr)\n",
    "\n",
    "# make the plot\n",
    "plt.figure(figsize=(10,10))\n",
    "plt.plot([0, 1], [0, 1], 'k--')\n",
    "plt.xlim([-0.05, 1.0])\n",
    "plt.ylim([0.0, 1.05])\n",
    "plt.xlabel('False Positive Rate')\n",
    "plt.ylabel('True Positive Rate')\n",
    "plt.grid(True)\n",
    "plt.plot(fpr, tpr, label='AUC = {0}'.format(roc_auc))        \n",
    "plt.legend(loc=\"lower right\", shadow=True, fancybox =True) \n",
    "plt.show()\n"
   ]
  },
  {
   "cell_type": "code",
   "execution_count": 38,
   "metadata": {},
   "outputs": [],
   "source": [
    "y_pred = rf_random.predict(X_test)"
   ]
  },
  {
   "cell_type": "code",
   "execution_count": 39,
   "metadata": {},
   "outputs": [
    {
     "name": "stdout",
     "output_type": "stream",
     "text": [
      "              precision    recall  f1-score   support\n",
      "\n",
      "           0       0.80      0.74      0.77     14118\n",
      "           1       0.59      0.66      0.62      7882\n",
      "\n",
      "    accuracy                           0.71     22000\n",
      "   macro avg       0.69      0.70      0.69     22000\n",
      "weighted avg       0.72      0.71      0.71     22000\n",
      "\n"
     ]
    }
   ],
   "source": [
    "print(classification_report(y_pred, y_test))"
   ]
  },
  {
   "cell_type": "code",
   "execution_count": null,
   "metadata": {},
   "outputs": [],
   "source": []
  }
 ],
 "metadata": {
  "kernelspec": {
   "display_name": "Python 3",
   "language": "python",
   "name": "python3"
  },
  "language_info": {
   "codemirror_mode": {
    "name": "ipython",
    "version": 3
   },
   "file_extension": ".py",
   "mimetype": "text/x-python",
   "name": "python",
   "nbconvert_exporter": "python",
   "pygments_lexer": "ipython3",
   "version": "3.6.8"
  }
 },
 "nbformat": 4,
 "nbformat_minor": 2
}
