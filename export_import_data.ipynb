{
 "cells": [
  {
   "cell_type": "code",
   "execution_count": 1,
   "metadata": {
    "colab": {},
    "colab_type": "code",
    "id": "JUktuysM7xD1"
   },
   "outputs": [],
   "source": [
    "import os\n",
    "import cv2\n",
    "import numpy as np\n",
    "import pandas as pd\n",
    "import matplotlib.pyplot as plt\n",
    "from PIL import Image\n",
    "from tqdm import *\n",
    "from IPython.display import display"
   ]
  },
  {
   "cell_type": "code",
   "execution_count": null,
   "metadata": {},
   "outputs": [],
   "source": [
    "def loadRGB(path):\n",
    "    bgr = cv2.imread(path)\n",
    "    b,g,r = cv2.split(bgr)\n",
    "    rgb = cv2.merge([r,g,b])\n",
    "    return rgb\n",
    "\n",
    "def showImg(path):\n",
    "    img = Image.fromarray(loadRGB(path))\n",
    "    display(img)"
   ]
  },
  {
   "cell_type": "markdown",
   "metadata": {},
   "source": [
    "# Export data in `npz` format"
   ]
  },
  {
   "cell_type": "code",
   "execution_count": null,
   "metadata": {
    "colab": {
     "base_uri": "https://localhost:8080/",
     "height": 217
    },
    "colab_type": "code",
    "id": "EKglD6be8BXE",
    "outputId": "b4cba0f6-007c-4ee3-b5df-9665c91d99d0"
   },
   "outputs": [],
   "source": [
    "data = pd.read_csv('data/train_labels.csv')\n",
    "train_path = 'data/train/'\n",
    "test_path = 'data/test/'\n",
    "\n",
    "print(data['label'].value_counts())\n",
    "print(\"\\nTrain image:\")\n",
    "for filename in os.listdir(train_path):\n",
    "    showImg(train_path + filename)\n",
    "    break\n",
    "print(\"\\nTest image:\")\n",
    "for filename in os.listdir(test_path):\n",
    "    showImg(test_path + filename)\n",
    "    break"
   ]
  },
  {
   "cell_type": "code",
   "execution_count": null,
   "metadata": {
    "colab": {},
    "colab_type": "code",
    "id": "x4KiEk0r0OTf"
   },
   "outputs": [],
   "source": [
    "train_df = data.set_index('id')\n",
    "train_names = train_df.index.values\n",
    "train_labels = np.asarray(train_df['label'].values)\n",
    "train_dict = {'name': train_path + train_names + \".tif\", 'label': train_labels}\n",
    "df_train = pd.DataFrame(data=train_dict)\n",
    "\n",
    "test_names = []\n",
    "for f in os.listdir(test_path):\n",
    "    test_names.append(test_path + f)\n",
    "df_test = pd.DataFrame(np.asarray(test_names), columns=['name'])"
   ]
  },
  {
   "cell_type": "code",
   "execution_count": null,
   "metadata": {},
   "outputs": [],
   "source": [
    "x_train = []\n",
    "x_test = []\n",
    "y_train = []"
   ]
  },
  {
   "cell_type": "code",
   "execution_count": null,
   "metadata": {},
   "outputs": [],
   "source": [
    "for path in tqdm(df_train['name']):\n",
    "    x_train.append(loadRGB(path))\n",
    "x_train = np.asarray(x_train, dtype = np.int8)\n",
    "print(x_train.shape)"
   ]
  },
  {
   "cell_type": "code",
   "execution_count": null,
   "metadata": {},
   "outputs": [],
   "source": [
    "for path in tqdm(df_test['name']):\n",
    "    x_test.append(loadRGB(path))\n",
    "x_test = np.asarray(x_test, dtype = np.int8)\n",
    "print(x_test.shape)"
   ]
  },
  {
   "cell_type": "code",
   "execution_count": null,
   "metadata": {},
   "outputs": [],
   "source": [
    "y_train = np.zeros((train_labels.size, train_labels.max()+1))\n",
    "y_train[np.arange(train_labels.size),train_labels] = 1\n",
    "y_train.astype('float32')\n",
    "print(y_train.shape)"
   ]
  },
  {
   "cell_type": "code",
   "execution_count": null,
   "metadata": {},
   "outputs": [],
   "source": [
    "np.savez_compressed(\"./data/cancerz\", x_train = x_train,  x_test = x_test, y_train = y_train)"
   ]
  },
  {
   "cell_type": "markdown",
   "metadata": {},
   "source": [
    "# Import data from `cancerz.npz`"
   ]
  },
  {
   "cell_type": "code",
   "execution_count": 2,
   "metadata": {},
   "outputs": [
    {
     "name": "stdout",
     "output_type": "stream",
     "text": [
      "(220025, 96, 96, 3)\n",
      "(57458, 96, 96, 3)\n",
      "(220025, 2)\n"
     ]
    }
   ],
   "source": [
    "with np.load(\"./data/cancerz.npz\") as f:\n",
    "    x_train, y_train = f[\"x_train\"], f[\"y_train\"]\n",
    "    x_test = f[\"x_test\"]\n",
    "print(x_train.shape)\n",
    "print(x_test.shape)\n",
    "print(y_train.shape)"
   ]
  }
 ],
 "metadata": {
  "colab": {
   "collapsed_sections": [],
   "name": "compare-models.ipynb",
   "provenance": [],
   "version": "0.3.2"
  },
  "kernelspec": {
   "display_name": "Python 3",
   "language": "python",
   "name": "python3"
  },
  "language_info": {
   "codemirror_mode": {
    "name": "ipython",
    "version": 3
   },
   "file_extension": ".py",
   "mimetype": "text/x-python",
   "name": "python",
   "nbconvert_exporter": "python",
   "pygments_lexer": "ipython3",
   "version": "3.7.3"
  }
 },
 "nbformat": 4,
 "nbformat_minor": 1
}
